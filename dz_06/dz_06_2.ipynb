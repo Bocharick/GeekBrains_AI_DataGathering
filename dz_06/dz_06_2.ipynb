{
 "cells": [
  {
   "cell_type": "markdown",
   "metadata": {},
   "source": [
    "### 2) Написать программу, которая собирает «Хиты продаж» с сайтов техники mvideo, onlinetrade и складывает данные в БД. Магазины можно выбрать свои. Главный критерий выбора: динамически загружаемые товары"
   ]
  },
  {
   "cell_type": "code",
   "execution_count": 1,
   "metadata": {},
   "outputs": [],
   "source": [
    "from selenium import webdriver          #Основной элемент\n",
    "from selenium.webdriver.support import expected_conditions as EC\n",
    "from selenium.webdriver.support.ui import Select, WebDriverWait   # Select - Поле множественного выбора\n",
    "from selenium.webdriver.common.by import By  #используем Селениум\n",
    "from selenium.webdriver.common.keys import Keys    #Клавиши клавиатуры\n",
    "from selenium.webdriver.common.action_chains import ActionChains\n",
    "import pprint\n",
    "from pymongo import MongoClient\n",
    "import time\n",
    "import datetime\n",
    "import re"
   ]
  },
  {
   "cell_type": "code",
   "execution_count": 2,
   "metadata": {},
   "outputs": [],
   "source": [
    "link_mvideo = \"https://www.mvideo.ru/\"\n",
    "link_onlinetrade = \"\""
   ]
  },
  {
   "cell_type": "code",
   "execution_count": 3,
   "metadata": {},
   "outputs": [],
   "source": [
    "driver = webdriver.Chrome()   #Движок Хрома\n",
    "driver.maximize_window()\n",
    "driver.get(link_mvideo)"
   ]
  },
  {
   "cell_type": "code",
   "execution_count": 4,
   "metadata": {},
   "outputs": [
    {
     "data": {
      "text/plain": [
       "3"
      ]
     },
     "execution_count": 4,
     "metadata": {},
     "output_type": "execute_result"
    }
   ],
   "source": [
    "WebDriverWait(driver, 30).until(EC.presence_of_all_elements_located((By.CLASS_NAME, \"flocktory-widget\")))\n",
    "flocktories_iframes = driver.find_elements_by_class_name(\"flocktory-widget\")\n",
    "len(flocktories_iframes)"
   ]
  },
  {
   "cell_type": "code",
   "execution_count": 5,
   "metadata": {},
   "outputs": [],
   "source": [
    "for iframe in flocktories_iframes:\n",
    "    driver.switch_to.frame(iframe)\n",
    "    try:\n",
    "        close_btn = driver.find_element_by_xpath(\"//div[contains(@data-fl-track, 'click-close-x')]\")\n",
    "        close_btn.click()\n",
    "        hits = iframe\n",
    "    except Exception as e:\n",
    "        pass\n",
    "    driver.switch_to.default_content()"
   ]
  },
  {
   "cell_type": "code",
   "execution_count": 6,
   "metadata": {},
   "outputs": [
    {
     "data": {
      "text/plain": [
       "3"
      ]
     },
     "execution_count": 6,
     "metadata": {},
     "output_type": "execute_result"
    }
   ],
   "source": [
    "ajaxs = driver.find_elements_by_xpath(\"//div[contains(@data-init, 'ajax-category-carousel')]\")\n",
    "len(ajaxs)"
   ]
  },
  {
   "cell_type": "code",
   "execution_count": 7,
   "metadata": {},
   "outputs": [],
   "source": [
    "for elem in ajaxs:\n",
    "    if \"Хиты продаж\" in elem.get_attribute('innerHTML'):\n",
    "        hits = elem\n",
    "        break"
   ]
  },
  {
   "cell_type": "code",
   "execution_count": 8,
   "metadata": {},
   "outputs": [],
   "source": [
    "def get_item_info(one_item):\n",
    "    try:\n",
    "        item_name = one_item.find_element_by_class_name(\"sel-product-tile-title\").text\n",
    "        item_href = one_item.find_element_by_class_name(\"sel-product-tile-title\").get_attribute(\"href\")\n",
    "        item_price = int(re.sub(\"\\D\", \"\", one_item.find_element_by_class_name(\"c-pdp-price__current\").text))\n",
    "        return {\"name\": item_name,\"href\": item_href, \"price\": item_price}\n",
    "    except:\n",
    "        return {}"
   ]
  },
  {
   "cell_type": "code",
   "execution_count": 9,
   "metadata": {},
   "outputs": [],
   "source": [
    "def wait_for_ajax(driver):\n",
    "    wait = WebDriverWait(driver, 15)\n",
    "    try:\n",
    "        wait.until(lambda driver: driver.execute_script('return jQuery.active') == 0)\n",
    "        wait.until(lambda driver: driver.execute_script('return document.readyState') == 'complete')\n",
    "    except Exception as e:\n",
    "        pass"
   ]
  },
  {
   "cell_type": "code",
   "execution_count": 10,
   "metadata": {},
   "outputs": [],
   "source": [
    "next_btn = hits.find_element_by_class_name(\"sel-hits-button-next\")\n",
    "prev_btn = hits.find_element_by_class_name(\"sel-hits-button-prev\")\n",
    "action = webdriver.ActionChains(driver)\n",
    "action.move_to_element(hits).perform()\n",
    "while True:\n",
    "    next_btn.click()\n",
    "    wait_for_ajax(driver)\n",
    "    try:\n",
    "        hits.find_element_by_class_name(\"disabled\")\n",
    "        break\n",
    "    except Exception as e:\n",
    "        pass"
   ]
  },
  {
   "cell_type": "code",
   "execution_count": 11,
   "metadata": {},
   "outputs": [],
   "source": [
    "items_info = []\n",
    "for i in range(5):\n",
    "    hits_list = hits.find_elements_by_class_name(\"gallery-list-item\")\n",
    "    for item in hits_list:\n",
    "        try:\n",
    "            item_info = get_item_info(item)\n",
    "            if item_info != {} and item_info not in items_info:\n",
    "                items_info.append(item_info)\n",
    "        except Exception as e:\n",
    "            pass\n",
    "    prev_btn.click()\n",
    "    time.sleep(1)"
   ]
  },
  {
   "cell_type": "code",
   "execution_count": 12,
   "metadata": {},
   "outputs": [
    {
     "name": "stdout",
     "output_type": "stream",
     "text": [
      "Видеокамера экшн SJCAM SJ4000 Air Black\n",
      "3990\n",
      "https://www.mvideo.ru/products/videokamera-ekshn-sjcam-sj4000-air-black-10020390\n",
      "\n",
      "Музыкальная система Midi LG XBOOM OK85\n",
      "23990\n",
      "https://www.mvideo.ru/products/muzykalnaya-sistema-midi-lg-xboom-ok85-10018348\n",
      "\n",
      "Спортивные наушники Bluetooth Honor Sport AM61 Red\n",
      "2190\n",
      "https://www.mvideo.ru/products/sportivnye-naushniki-bluetooth-honor-sport-am61-red-50110516\n",
      "\n",
      "Утюг Philips GC4537/70\n",
      "3990\n",
      "https://www.mvideo.ru/products/utug-philips-gc4537-70-20054614\n",
      "\n",
      "Наушники Bluetooth JBL Live 500BT Black\n",
      "5490\n",
      "https://www.mvideo.ru/products/naushniki-bluetooth-jbl-live-500bt-black-50125459\n",
      "\n",
      "Погружной блендер Redmond RHB-2946\n",
      "3990\n",
      "https://www.mvideo.ru/products/pogruzhnoi-blender-redmond-rhb-2946-20042933\n",
      "\n",
      "Ноутбук Lenovo IdeaPad 330-15IKB (81DC0107RU)\n",
      "39990\n",
      "https://www.mvideo.ru/products/noutbuk-lenovo-ideapad-330-15ikb-81dc0107ru-30042205\n",
      "\n",
      "Пылесос с контейнером для пыли Bosch GS 10 BGS1U1805\n",
      "6990\n",
      "https://www.mvideo.ru/products/pylesos-s-konteinerom-dlya-pyli-bosch-gs-10-bgs1u1805-20035243\n",
      "\n",
      "Беспроводная акустика JBL Charge 3 Stealth Edition Black\n",
      "6990\n",
      "https://www.mvideo.ru/products/besprovodnaya-akustika-jbl-charge-3-stealth-edition-black-10021610\n",
      "\n",
      "Сплит-система (инвертор) Haier HSU-09HTM03/R2(DB)\n",
      "26990\n",
      "https://www.mvideo.ru/products/split-sistema-invertor-haier-hsu-09htm03-r2-db-20061069\n",
      "\n",
      "Беспроводная акустика JBL PULSE 3 Black\n",
      "9990\n",
      "https://www.mvideo.ru/products/besprovodnaya-akustika-jbl-pulse-3-black-10012873\n",
      "\n",
      "Эпилятор Braun SES 7/700 Legs&body\n",
      "4990\n",
      "https://www.mvideo.ru/products/epilyator-braun-ses-7-700-legs-body-20052154\n",
      "\n",
      "Холодильник Bosch NatureCool Serie | 4 KGV39XW21R\n",
      "29990\n",
      "https://www.mvideo.ru/products/holodilnik-bosch-naturecool-serie-4-kgv39xw21r-20039311\n",
      "\n",
      "Триммер Remington Groom Kit Plus PG6150\n",
      "3490\n",
      "https://www.mvideo.ru/products/trimmer-remington-groom-kit-plus-pg6150-20036190\n",
      "\n",
      "Фотоаппарат зеркальный Nikon D5600 + 18-55 P VR\n",
      "41990\n",
      "https://www.mvideo.ru/products/fotoapparat-zerkalnyi-nikon-d5600-18-55-p-vr-10011454\n",
      "\n",
      "Стиральная машина узкая Samsung WW60J30G03W\n",
      "23990\n",
      "https://www.mvideo.ru/products/stiralnaya-mashina-uzkaya-samsung-ww60j30g03w-20039429\n",
      "\n",
      "Смартфон Honor 10I 128Gb Shimmering Red (HRY-LX1T)\n",
      "16990\n",
      "https://www.mvideo.ru/products/smartfon-honor-10i-128gb-shimmering-red-hry-lx1t-30043210\n",
      "\n",
      "Телевизор Panasonic TX-55FXR600\n",
      "39990\n",
      "https://www.mvideo.ru/products/televizor-panasonic-tx-55fxr600-10018830\n",
      "\n",
      "Смартфон Honor View 20 128GB Sapphire Blue (PCT-L29)\n",
      "33990\n",
      "https://www.mvideo.ru/products/smartfon-honor-view-20-128gb-sapphire-blue-pct-l29-30042280\n",
      "\n"
     ]
    }
   ],
   "source": [
    "for item in items_info:\n",
    "    print(item['name'], item['price'], item['href'], \"\", sep=\"\\n\")"
   ]
  },
  {
   "cell_type": "code",
   "execution_count": 13,
   "metadata": {},
   "outputs": [],
   "source": [
    "driver.quit()"
   ]
  },
  {
   "cell_type": "code",
   "execution_count": 14,
   "metadata": {},
   "outputs": [],
   "source": [
    "mongoclient = MongoClient('mongodb://127.0.0.1:27017')\n",
    "db = mongoclient['goods']\n",
    "goodsdb = db.goods\n",
    "mongoclient.drop_database(\"goods\")"
   ]
  },
  {
   "cell_type": "code",
   "execution_count": 15,
   "metadata": {},
   "outputs": [
    {
     "data": {
      "text/plain": [
       "<pymongo.results.InsertManyResult at 0x21d747d7e48>"
      ]
     },
     "execution_count": 15,
     "metadata": {},
     "output_type": "execute_result"
    }
   ],
   "source": [
    "goodsdb.insert_many(items_info)"
   ]
  },
  {
   "cell_type": "code",
   "execution_count": 16,
   "metadata": {},
   "outputs": [],
   "source": [
    "def show_what_in_database(print_limit=0):\n",
    "    cursor = goodsdb.find()\n",
    "    i = 0\n",
    "    for document in cursor:\n",
    "        pprint.pprint(document)\n",
    "        print()\n",
    "        i += 1\n",
    "        if print_limit != 0:\n",
    "            if i == print_limit:\n",
    "                return"
   ]
  },
  {
   "cell_type": "code",
   "execution_count": 17,
   "metadata": {},
   "outputs": [
    {
     "name": "stdout",
     "output_type": "stream",
     "text": [
      "{'_id': ObjectId('5d2ca423daf041724b31806a'),\n",
      " 'href': 'https://www.mvideo.ru/products/videokamera-ekshn-sjcam-sj4000-air-black-10020390',\n",
      " 'name': 'Видеокамера экшн SJCAM SJ4000 Air Black',\n",
      " 'price': 3990}\n",
      "\n",
      "{'_id': ObjectId('5d2ca423daf041724b31806b'),\n",
      " 'href': 'https://www.mvideo.ru/products/muzykalnaya-sistema-midi-lg-xboom-ok85-10018348',\n",
      " 'name': 'Музыкальная система Midi LG XBOOM OK85',\n",
      " 'price': 23990}\n",
      "\n",
      "{'_id': ObjectId('5d2ca423daf041724b31806c'),\n",
      " 'href': 'https://www.mvideo.ru/products/sportivnye-naushniki-bluetooth-honor-sport-am61-red-50110516',\n",
      " 'name': 'Спортивные наушники Bluetooth Honor Sport AM61 Red',\n",
      " 'price': 2190}\n",
      "\n",
      "{'_id': ObjectId('5d2ca423daf041724b31806d'),\n",
      " 'href': 'https://www.mvideo.ru/products/utug-philips-gc4537-70-20054614',\n",
      " 'name': 'Утюг Philips GC4537/70',\n",
      " 'price': 3990}\n",
      "\n",
      "{'_id': ObjectId('5d2ca423daf041724b31806e'),\n",
      " 'href': 'https://www.mvideo.ru/products/naushniki-bluetooth-jbl-live-500bt-black-50125459',\n",
      " 'name': 'Наушники Bluetooth JBL Live 500BT Black',\n",
      " 'price': 5490}\n",
      "\n",
      "{'_id': ObjectId('5d2ca423daf041724b31806f'),\n",
      " 'href': 'https://www.mvideo.ru/products/pogruzhnoi-blender-redmond-rhb-2946-20042933',\n",
      " 'name': 'Погружной блендер Redmond RHB-2946',\n",
      " 'price': 3990}\n",
      "\n",
      "{'_id': ObjectId('5d2ca423daf041724b318070'),\n",
      " 'href': 'https://www.mvideo.ru/products/noutbuk-lenovo-ideapad-330-15ikb-81dc0107ru-30042205',\n",
      " 'name': 'Ноутбук Lenovo IdeaPad 330-15IKB (81DC0107RU)',\n",
      " 'price': 39990}\n",
      "\n",
      "{'_id': ObjectId('5d2ca423daf041724b318071'),\n",
      " 'href': 'https://www.mvideo.ru/products/pylesos-s-konteinerom-dlya-pyli-bosch-gs-10-bgs1u1805-20035243',\n",
      " 'name': 'Пылесос с контейнером для пыли Bosch GS 10 BGS1U1805',\n",
      " 'price': 6990}\n",
      "\n",
      "{'_id': ObjectId('5d2ca423daf041724b318072'),\n",
      " 'href': 'https://www.mvideo.ru/products/besprovodnaya-akustika-jbl-charge-3-stealth-edition-black-10021610',\n",
      " 'name': 'Беспроводная акустика JBL Charge 3 Stealth Edition Black',\n",
      " 'price': 6990}\n",
      "\n",
      "{'_id': ObjectId('5d2ca423daf041724b318073'),\n",
      " 'href': 'https://www.mvideo.ru/products/split-sistema-invertor-haier-hsu-09htm03-r2-db-20061069',\n",
      " 'name': 'Сплит-система (инвертор) Haier HSU-09HTM03/R2(DB)',\n",
      " 'price': 26990}\n",
      "\n",
      "{'_id': ObjectId('5d2ca423daf041724b318074'),\n",
      " 'href': 'https://www.mvideo.ru/products/besprovodnaya-akustika-jbl-pulse-3-black-10012873',\n",
      " 'name': 'Беспроводная акустика JBL PULSE 3 Black',\n",
      " 'price': 9990}\n",
      "\n",
      "{'_id': ObjectId('5d2ca423daf041724b318075'),\n",
      " 'href': 'https://www.mvideo.ru/products/epilyator-braun-ses-7-700-legs-body-20052154',\n",
      " 'name': 'Эпилятор Braun SES 7/700 Legs&body',\n",
      " 'price': 4990}\n",
      "\n",
      "{'_id': ObjectId('5d2ca423daf041724b318076'),\n",
      " 'href': 'https://www.mvideo.ru/products/holodilnik-bosch-naturecool-serie-4-kgv39xw21r-20039311',\n",
      " 'name': 'Холодильник Bosch NatureCool Serie | 4 KGV39XW21R',\n",
      " 'price': 29990}\n",
      "\n",
      "{'_id': ObjectId('5d2ca423daf041724b318077'),\n",
      " 'href': 'https://www.mvideo.ru/products/trimmer-remington-groom-kit-plus-pg6150-20036190',\n",
      " 'name': 'Триммер Remington Groom Kit Plus PG6150',\n",
      " 'price': 3490}\n",
      "\n",
      "{'_id': ObjectId('5d2ca423daf041724b318078'),\n",
      " 'href': 'https://www.mvideo.ru/products/fotoapparat-zerkalnyi-nikon-d5600-18-55-p-vr-10011454',\n",
      " 'name': 'Фотоаппарат зеркальный Nikon D5600 + 18-55 P VR',\n",
      " 'price': 41990}\n",
      "\n",
      "{'_id': ObjectId('5d2ca423daf041724b318079'),\n",
      " 'href': 'https://www.mvideo.ru/products/stiralnaya-mashina-uzkaya-samsung-ww60j30g03w-20039429',\n",
      " 'name': 'Стиральная машина узкая Samsung WW60J30G03W',\n",
      " 'price': 23990}\n",
      "\n",
      "{'_id': ObjectId('5d2ca423daf041724b31807a'),\n",
      " 'href': 'https://www.mvideo.ru/products/smartfon-honor-10i-128gb-shimmering-red-hry-lx1t-30043210',\n",
      " 'name': 'Смартфон Honor 10I 128Gb Shimmering Red (HRY-LX1T)',\n",
      " 'price': 16990}\n",
      "\n",
      "{'_id': ObjectId('5d2ca423daf041724b31807b'),\n",
      " 'href': 'https://www.mvideo.ru/products/televizor-panasonic-tx-55fxr600-10018830',\n",
      " 'name': 'Телевизор Panasonic TX-55FXR600',\n",
      " 'price': 39990}\n",
      "\n",
      "{'_id': ObjectId('5d2ca423daf041724b31807c'),\n",
      " 'href': 'https://www.mvideo.ru/products/smartfon-honor-view-20-128gb-sapphire-blue-pct-l29-30042280',\n",
      " 'name': 'Смартфон Honor View 20 128GB Sapphire Blue (PCT-L29)',\n",
      " 'price': 33990}\n",
      "\n"
     ]
    }
   ],
   "source": [
    "show_what_in_database()"
   ]
  },
  {
   "cell_type": "code",
   "execution_count": null,
   "metadata": {},
   "outputs": [],
   "source": []
  }
 ],
 "metadata": {
  "kernelspec": {
   "display_name": "Python 3",
   "language": "python",
   "name": "python3"
  },
  "language_info": {
   "codemirror_mode": {
    "name": "ipython",
    "version": 3
   },
   "file_extension": ".py",
   "mimetype": "text/x-python",
   "name": "python",
   "nbconvert_exporter": "python",
   "pygments_lexer": "ipython3",
   "version": "3.7.1"
  }
 },
 "nbformat": 4,
 "nbformat_minor": 2
}
