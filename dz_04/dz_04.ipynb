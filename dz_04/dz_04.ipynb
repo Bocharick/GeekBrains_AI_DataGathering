{
 "cells": [
  {
   "cell_type": "code",
   "execution_count": 1,
   "metadata": {},
   "outputs": [],
   "source": [
    "import json\n",
    "from bs4 import BeautifulSoup as bs\n",
    "import requests\n",
    "import pprint\n",
    "import time\n",
    "import random"
   ]
  },
  {
   "cell_type": "markdown",
   "metadata": {},
   "source": [
    "#### 1) Необходимо собрать информацию о вакансиях на должность программиста или разработчика с сайта job.ru или hh.ru. (Можно с обоих сразу) Приложение должно анализировать несколько страниц сайта. Получившийся список должен содержать в себе:   \n",
    "* Наименование вакансии,  \n",
    "* Предлагаемую зарплату,  \n",
    "* Ссылку на саму вакансию  \n",
    "  \n",
    "#### 2) Доработать приложение таким образом, чтобы можно было искать разработчиков на разные языки программирования (Например Python, Java, C++)"
   ]
  },
  {
   "cell_type": "markdown",
   "metadata": {},
   "source": [
    "# Конфиг:"
   ]
  },
  {
   "cell_type": "code",
   "execution_count": 2,
   "metadata": {},
   "outputs": [],
   "source": [
    "# Укажите здесь вакансию которую вы ищете\n",
    "JOB_NAME = \"программист с++\"\n",
    "\n",
    "# Укажите сколько страниц с вакансиями достаточно пропарсить \n",
    "# (если страниц с результатами будет меньше чем заданное число, то будут пропарсены все страницы):\n",
    "pages_enough = 3\n",
    "\n",
    "# Искать только вакансии с указанными зарплатами (если false, ищутся все вакансии):\n",
    "only_with_salary=False"
   ]
  },
  {
   "cell_type": "code",
   "execution_count": null,
   "metadata": {},
   "outputs": [],
   "source": []
  },
  {
   "cell_type": "code",
   "execution_count": 3,
   "metadata": {},
   "outputs": [],
   "source": [
    "headers = requests.utils.default_headers()\n",
    "headers['User-Agent'] = \"Mozilla/5.0 (X11; Ubuntu; Linux x86_64) AppleWebKit/537.36 (KHTML, like Gecko) Chrome/60.0.3112.101 Safari/537.36\""
   ]
  },
  {
   "cell_type": "code",
   "execution_count": 4,
   "metadata": {},
   "outputs": [],
   "source": [
    "def make_link_for_jobname(jobname_string, only_with_salary=False):\n",
    "    jobname_string = jobname_string.replace(\"+\", \"%2B\")\n",
    "    jobname_string = jobname_string.replace(\"#\", \"%23\")\n",
    "    jobname_split = jobname_string.split(\" \")\n",
    "    only_with_salary = \"true\" if only_with_salary else \"false\"\n",
    "    link = \"https://hh.ru/search/vacancy?L_is_autosearch=false&area=1&only_with_salary=%s&clusters=true&enable_snippets=true&text=%s&page=0\" % (only_with_salary, \"+\".join(jobname_split))\n",
    "    return link"
   ]
  },
  {
   "cell_type": "code",
   "execution_count": 5,
   "metadata": {},
   "outputs": [],
   "source": [
    "def find_next_page_link(page_content):\n",
    "    if page_content.find('a', {\"class\": \"bloko-button HH-Pager-Controls-Next HH-Pager-Control\"}, href=True) is None:\n",
    "        return False\n",
    "    else:\n",
    "        return \"https://hh.ru\" + page_content.find('a', {\"class\": \"bloko-button HH-Pager-Controls-Next HH-Pager-Control\"}, href=True)['href']"
   ]
  },
  {
   "cell_type": "code",
   "execution_count": 6,
   "metadata": {},
   "outputs": [],
   "source": [
    "def find_all_vacancies_items(parsed_html):\n",
    "    return parsed_html.find_all('div', {'class': 'vacancy-serp-item'})"
   ]
  },
  {
   "cell_type": "code",
   "execution_count": 7,
   "metadata": {},
   "outputs": [],
   "source": [
    "def parse_vacancy_item(vacancy_item, debug=False):\n",
    "    \n",
    "    vacancy_item_second_child = vacancy_item.findChild().find_next_sibling()\n",
    "    vacancy_item_third_child = vacancy_item.findChild().find_next_sibling().find_next_sibling()\n",
    "\n",
    "    tmp_jobname = vacancy_item_second_child.findChild().getText()\n",
    "    if debug:\n",
    "        print(\"=============================================================================\")\n",
    "        print(\"Название:\\t\", tmp_jobname, flush=True)\n",
    "        \n",
    "    tmp_vacancy_href = vacancy_item_second_child.findChild(href=True)['href']\n",
    "    if debug:\n",
    "        print(\"Ссылка:\\t\", tmp_vacancy_href, flush=True)\n",
    "        \n",
    "    tmp_value = vacancy_item_second_child.findChild().find_next_sibling().getText()\n",
    "    tmp_value = tmp_value if tmp_value != \"\" else \"Не указана\"\n",
    "    if debug:\n",
    "        print(\"Зарплата:\\t\", tmp_value, flush=True)\n",
    "        \n",
    "    tmp_obyazan = vacancy_item.find(\"div\", {\"data-qa\": \"vacancy-serp__vacancy_snippet_responsibility\"}).getText()\n",
    "    if debug:\n",
    "        print(\"Обязанности:\\t\", tmp_obyazan, flush=True)\n",
    "        \n",
    "    tmp_requir = vacancy_item.find(\"div\", {\"data-qa\": \"vacancy-serp__vacancy_snippet_requirement\"}).getText()\n",
    "    if debug:\n",
    "        print(\"Требования:\\t\", tmp_requir, flush=True)\n",
    "        print(\"=============================================================================\")\n",
    "\n",
    "    return {\"job\": tmp_jobname, \"link\": tmp_vacancy_href, \"value\": tmp_value, \"respons\": tmp_obyazan, \"req\": tmp_requir}"
   ]
  },
  {
   "cell_type": "code",
   "execution_count": 8,
   "metadata": {},
   "outputs": [
    {
     "name": "stdout",
     "output_type": "stream",
     "text": [
      "#3/3 страниц пропарсено\n"
     ]
    }
   ],
   "source": [
    "link = make_link_for_jobname(JOB_NAME, only_with_salary=only_with_salary)\n",
    "all_job_offers = []\n",
    "pages_counter = 0\n",
    "\n",
    "while link:\n",
    "#     print(link)\n",
    "    get_ = requests.get(link, headers=headers)\n",
    "    get_.encoding = 'utf-8'\n",
    "    html = get_.text\n",
    "    parsed_html = bs(html,'lxml')\n",
    "    link = find_next_page_link(parsed_html)\n",
    "    all_vacancies = find_all_vacancies_items(parsed_html)\n",
    "    for vacancy_item in all_vacancies:\n",
    "        all_job_offers.append(parse_vacancy_item(vacancy_item))\n",
    "    pages_counter += 1\n",
    "    print(\"\\r#%d/%d страниц пропарсено\" % (pages_counter, pages_enough), end = \"\", flush=True)\n",
    "    if pages_counter == pages_enough:\n",
    "        link = False\n",
    "print()"
   ]
  },
  {
   "cell_type": "code",
   "execution_count": 9,
   "metadata": {},
   "outputs": [
    {
     "ename": "UnicodeEncodeError",
     "evalue": "'charmap' codec can't encode character '\\u2219' in position 47: character maps to <undefined>",
     "output_type": "error",
     "traceback": [
      "\u001b[1;31m---------------------------------------------------------------------------\u001b[0m",
      "\u001b[1;31mUnicodeEncodeError\u001b[0m                        Traceback (most recent call last)",
      "\u001b[1;32m<ipython-input-9-df0564b9d43d>\u001b[0m in \u001b[0;36m<module>\u001b[1;34m\u001b[0m\n\u001b[0;32m      7\u001b[0m             \u001b[0moutput_file\u001b[0m\u001b[1;33m.\u001b[0m\u001b[0mwrite\u001b[0m\u001b[1;33m(\u001b[0m\u001b[1;34m\"Ссылка:\\n\\t\"\u001b[0m \u001b[1;33m+\u001b[0m \u001b[0mrec\u001b[0m\u001b[1;33m[\u001b[0m\u001b[1;34m\"link\"\u001b[0m\u001b[1;33m]\u001b[0m \u001b[1;33m+\u001b[0m \u001b[1;34m\"\\n\"\u001b[0m\u001b[1;33m)\u001b[0m\u001b[1;33m\u001b[0m\u001b[1;33m\u001b[0m\u001b[0m\n\u001b[0;32m      8\u001b[0m             \u001b[0moutput_file\u001b[0m\u001b[1;33m.\u001b[0m\u001b[0mwrite\u001b[0m\u001b[1;33m(\u001b[0m\u001b[1;34m\"Обязанности:\\n\\t\"\u001b[0m \u001b[1;33m+\u001b[0m \u001b[0mrec\u001b[0m\u001b[1;33m[\u001b[0m\u001b[1;34m\"respons\"\u001b[0m\u001b[1;33m]\u001b[0m \u001b[1;33m+\u001b[0m \u001b[1;34m\"\\n\"\u001b[0m\u001b[1;33m)\u001b[0m\u001b[1;33m\u001b[0m\u001b[1;33m\u001b[0m\u001b[0m\n\u001b[1;32m----> 9\u001b[1;33m             \u001b[0moutput_file\u001b[0m\u001b[1;33m.\u001b[0m\u001b[0mwrite\u001b[0m\u001b[1;33m(\u001b[0m\u001b[1;34m\"Требования:\\n\\t\"\u001b[0m \u001b[1;33m+\u001b[0m \u001b[0mrec\u001b[0m\u001b[1;33m[\u001b[0m\u001b[1;34m\"req\"\u001b[0m\u001b[1;33m]\u001b[0m \u001b[1;33m+\u001b[0m \u001b[1;34m\"\\n\"\u001b[0m\u001b[1;33m)\u001b[0m\u001b[1;33m\u001b[0m\u001b[1;33m\u001b[0m\u001b[0m\n\u001b[0m\u001b[0;32m     10\u001b[0m             \u001b[0moutput_file\u001b[0m\u001b[1;33m.\u001b[0m\u001b[0mwrite\u001b[0m\u001b[1;33m(\u001b[0m\u001b[1;34m\"=====================================================================================\\n\\n\"\u001b[0m\u001b[1;33m)\u001b[0m\u001b[1;33m\u001b[0m\u001b[1;33m\u001b[0m\u001b[0m\n\u001b[0;32m     11\u001b[0m     \u001b[1;32melse\u001b[0m\u001b[1;33m:\u001b[0m\u001b[1;33m\u001b[0m\u001b[1;33m\u001b[0m\u001b[0m\n",
      "\u001b[1;32m~\\Anaconda3\\lib\\encodings\\cp1251.py\u001b[0m in \u001b[0;36mencode\u001b[1;34m(self, input, final)\u001b[0m\n\u001b[0;32m     17\u001b[0m \u001b[1;32mclass\u001b[0m \u001b[0mIncrementalEncoder\u001b[0m\u001b[1;33m(\u001b[0m\u001b[0mcodecs\u001b[0m\u001b[1;33m.\u001b[0m\u001b[0mIncrementalEncoder\u001b[0m\u001b[1;33m)\u001b[0m\u001b[1;33m:\u001b[0m\u001b[1;33m\u001b[0m\u001b[1;33m\u001b[0m\u001b[0m\n\u001b[0;32m     18\u001b[0m     \u001b[1;32mdef\u001b[0m \u001b[0mencode\u001b[0m\u001b[1;33m(\u001b[0m\u001b[0mself\u001b[0m\u001b[1;33m,\u001b[0m \u001b[0minput\u001b[0m\u001b[1;33m,\u001b[0m \u001b[0mfinal\u001b[0m\u001b[1;33m=\u001b[0m\u001b[1;32mFalse\u001b[0m\u001b[1;33m)\u001b[0m\u001b[1;33m:\u001b[0m\u001b[1;33m\u001b[0m\u001b[1;33m\u001b[0m\u001b[0m\n\u001b[1;32m---> 19\u001b[1;33m         \u001b[1;32mreturn\u001b[0m \u001b[0mcodecs\u001b[0m\u001b[1;33m.\u001b[0m\u001b[0mcharmap_encode\u001b[0m\u001b[1;33m(\u001b[0m\u001b[0minput\u001b[0m\u001b[1;33m,\u001b[0m\u001b[0mself\u001b[0m\u001b[1;33m.\u001b[0m\u001b[0merrors\u001b[0m\u001b[1;33m,\u001b[0m\u001b[0mencoding_table\u001b[0m\u001b[1;33m)\u001b[0m\u001b[1;33m[\u001b[0m\u001b[1;36m0\u001b[0m\u001b[1;33m]\u001b[0m\u001b[1;33m\u001b[0m\u001b[1;33m\u001b[0m\u001b[0m\n\u001b[0m\u001b[0;32m     20\u001b[0m \u001b[1;33m\u001b[0m\u001b[0m\n\u001b[0;32m     21\u001b[0m \u001b[1;32mclass\u001b[0m \u001b[0mIncrementalDecoder\u001b[0m\u001b[1;33m(\u001b[0m\u001b[0mcodecs\u001b[0m\u001b[1;33m.\u001b[0m\u001b[0mIncrementalDecoder\u001b[0m\u001b[1;33m)\u001b[0m\u001b[1;33m:\u001b[0m\u001b[1;33m\u001b[0m\u001b[1;33m\u001b[0m\u001b[0m\n",
      "\u001b[1;31mUnicodeEncodeError\u001b[0m: 'charmap' codec can't encode character '\\u2219' in position 47: character maps to <undefined>"
     ]
    }
   ],
   "source": [
    "with open(\"vacancies.txt\", \"wt\") as output_file:\n",
    "    if len(all_job_offers) > 0:\n",
    "        for rec in all_job_offers:\n",
    "            #{\"job\": tmp_jobname, \"link\": tmp_vacancy_href, \"value\": tmp_value, \"respons\": tmp_obyazan, \"req\": tmp_requir}\n",
    "            output_file.write(\"Вакансия:\\n\\t\" + rec[\"job\"] + \"\\n\")\n",
    "            output_file.write(\"Зарплата:\\n\\t\" + rec[\"value\"] + \"\\n\")\n",
    "            output_file.write(\"Ссылка:\\n\\t\" + rec[\"link\"] + \"\\n\")\n",
    "            output_file.write(\"Обязанности:\\n\\t\" + rec[\"respons\"] + \"\\n\")\n",
    "            output_file.write(\"Требования:\\n\\t\" + rec[\"req\"] + \"\\n\")\n",
    "            output_file.write(\"=====================================================================================\\n\\n\")\n",
    "    else:\n",
    "        output_file.write(\"Вакансий по запросу \\\"%s\\\" не найдено.\\n\" % JOB_NAME)\n",
    "            "
   ]
  },
  {
   "cell_type": "code",
   "execution_count": null,
   "metadata": {},
   "outputs": [],
   "source": [
    "with open(\"vacancies.txt\", \"rt\") as file:\n",
    "    print(file.read())"
   ]
  },
  {
   "cell_type": "code",
   "execution_count": null,
   "metadata": {},
   "outputs": [],
   "source": []
  },
  {
   "cell_type": "markdown",
   "metadata": {},
   "source": [
    "# some additional data"
   ]
  },
  {
   "cell_type": "code",
   "execution_count": null,
   "metadata": {},
   "outputs": [],
   "source": []
  }
 ],
 "metadata": {
  "kernelspec": {
   "display_name": "Python 3",
   "language": "python",
   "name": "python3"
  },
  "language_info": {
   "codemirror_mode": {
    "name": "ipython",
    "version": 3
   },
   "file_extension": ".py",
   "mimetype": "text/x-python",
   "name": "python",
   "nbconvert_exporter": "python",
   "pygments_lexer": "ipython3",
   "version": "3.7.1"
  }
 },
 "nbformat": 4,
 "nbformat_minor": 2
}
