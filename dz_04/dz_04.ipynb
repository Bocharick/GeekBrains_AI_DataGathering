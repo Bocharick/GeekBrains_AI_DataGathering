{
 "cells": [
  {
   "cell_type": "code",
   "execution_count": 1,
   "metadata": {},
   "outputs": [],
   "source": [
    "import json\n",
    "from bs4 import BeautifulSoup as bs\n",
    "import requests\n",
    "import pprint\n",
    "import time\n",
    "import random\n",
    "import re\n",
    "import numpy as np\n",
    "import pandas as pd\n",
    "from pymongo import MongoClient\n",
    "\n",
    "import warnings\n",
    "warnings.filterwarnings('ignore')"
   ]
  },
  {
   "cell_type": "markdown",
   "metadata": {},
   "source": [
    "### Задание с дз-03:  \n",
    "#### 1) Необходимо собрать информацию о вакансиях на должность программиста или разработчика с сайта job.ru или hh.ru. (Можно с обоих сразу) Приложение должно анализировать несколько страниц сайта. Получившийся список должен содержать в себе:   \n",
    "* Наименование вакансии,  \n",
    "* Предлагаемую зарплату,  \n",
    "* Ссылку на саму вакансию  \n",
    "  \n",
    "#### 2) Доработать приложение таким образом, чтобы можно было искать разработчиков на разные языки программирования (Например Python, Java, C++)  \n",
    "\n",
    "### Задание дз-04:  \n",
    "#### 1) Развернуть у себя на компьютере/виртуальной машине/хостинге MongoDB и реализовать функцию, записывающую собранные вакансии в созданную БД.  \n",
    "#### 2) Написать функцию, которая производит поиск и выводит на экран вакансии с заработной платой больше введенной суммы  \n",
    "#### 3*) Написать функцию, которая будет добавлять в вашу базу данных только новые вакансии с сайта"
   ]
  },
  {
   "cell_type": "code",
   "execution_count": null,
   "metadata": {},
   "outputs": [],
   "source": []
  },
  {
   "cell_type": "markdown",
   "metadata": {},
   "source": [
    "# Конфиг:"
   ]
  },
  {
   "cell_type": "code",
   "execution_count": 2,
   "metadata": {},
   "outputs": [],
   "source": [
    "# Укажите здесь вакансию которую вы ищете\n",
    "JOB_NAME = \"программист\"\n",
    "\n",
    "# Укажите сколько страниц с вакансиями достаточно пропарсить \n",
    "# (если страниц с результатами будет меньше чем заданное число, то будут пропарсены все страницы):\n",
    "pages_enough = 35\n",
    "\n",
    "# Искать только вакансии с указанными зарплатами (если false, ищутся все вакансии):\n",
    "only_with_salary=True"
   ]
  },
  {
   "cell_type": "code",
   "execution_count": null,
   "metadata": {},
   "outputs": [],
   "source": []
  },
  {
   "cell_type": "code",
   "execution_count": 3,
   "metadata": {},
   "outputs": [],
   "source": [
    "headers = requests.utils.default_headers()\n",
    "headers['User-Agent'] = \"Mozilla/5.0 (X11; Ubuntu; Linux x86_64) AppleWebKit/537.36 (KHTML, like Gecko) Chrome/60.0.3112.101 Safari/537.36\""
   ]
  },
  {
   "cell_type": "code",
   "execution_count": 4,
   "metadata": {},
   "outputs": [],
   "source": [
    "def make_link_for_jobname(jobname_string, only_with_salary=False):\n",
    "    jobname_string = jobname_string.replace(\"+\", \"%2B\")\n",
    "    jobname_string = jobname_string.replace(\"#\", \"%23\")\n",
    "    jobname_split = jobname_string.split(\" \")\n",
    "    only_with_salary = \"true\" if only_with_salary else \"false\"\n",
    "    link = \"https://hh.ru/search/vacancy?L_is_autosearch=false&area=1&only_with_salary=%s&clusters=true&enable_snippets=true&text=%s&page=0\" % (only_with_salary, \"+\".join(jobname_split))\n",
    "    return link"
   ]
  },
  {
   "cell_type": "code",
   "execution_count": 5,
   "metadata": {},
   "outputs": [],
   "source": [
    "def find_next_page_link(page_content):\n",
    "    if page_content.find('a', {\"class\": \"bloko-button HH-Pager-Controls-Next HH-Pager-Control\"}, href=True) is None:\n",
    "        return False\n",
    "    else:\n",
    "        return \"https://hh.ru\" + page_content.find('a', {\"class\": \"bloko-button HH-Pager-Controls-Next HH-Pager-Control\"}, href=True)['href']"
   ]
  },
  {
   "cell_type": "code",
   "execution_count": 6,
   "metadata": {},
   "outputs": [],
   "source": [
    "def find_all_vacancies_items(parsed_html):\n",
    "    return parsed_html.find_all('div', {'class': 'vacancy-serp-item'})"
   ]
  },
  {
   "cell_type": "code",
   "execution_count": 7,
   "metadata": {},
   "outputs": [],
   "source": [
    "def parse_vacancy_item(vacancy_item, debug=False):\n",
    "    \n",
    "    vacancy_item_second_child = vacancy_item.findChild().find_next_sibling()\n",
    "    vacancy_item_third_child = vacancy_item.findChild().find_next_sibling().find_next_sibling()\n",
    "\n",
    "    tmp_jobname = vacancy_item_second_child.findChild().getText()\n",
    "    if debug:\n",
    "        print(\"=============================================================================\")\n",
    "        print(\"Название:\\t\", tmp_jobname, flush=True)\n",
    "        \n",
    "    tmp_vacancy_href = vacancy_item_second_child.findChild(href=True)['href']\n",
    "    if debug:\n",
    "        print(\"Ссылка:\\t\", tmp_vacancy_href, flush=True)\n",
    "        \n",
    "    tmp_value = vacancy_item_second_child.findChild().find_next_sibling().getText()\n",
    "    tmp_value2 = {\"min\": 0, \"max\": 0, \"currency\": \"руб.\"}\n",
    "    if tmp_value != \"\":\n",
    "        tmp_value = re.sub(u'\\xa0', \"\", tmp_value)\n",
    "        if tmp_value.startswith(\"от\"):\n",
    "            tmp_value2[\"min\"] = int(tmp_value.split(\" \")[1])\n",
    "            tmp_value2[\"max\"] = 9999999999\n",
    "            tmp_value2[\"currency\"] = tmp_value.split(\" \")[2]\n",
    "        elif tmp_value.startswith(\"до\"):\n",
    "            tmp_value2[\"min\"] = 0\n",
    "            tmp_value2[\"max\"] = int(tmp_value.split(\" \")[1])\n",
    "            tmp_value2[\"currency\"] = tmp_value.split(\" \")[2]\n",
    "        else:\n",
    "            tmp_value_split = tmp_value.split(\" \")\n",
    "            tmp_value2[\"currency\"] = tmp_value_split[1]\n",
    "            tmp_value_split = tmp_value_split[0].split(\"-\")\n",
    "            tmp_value2[\"min\"] = int(tmp_value_split[0])\n",
    "            tmp_value2[\"max\"] = int(tmp_value_split[1])\n",
    "    \n",
    "    if debug:\n",
    "        print(\"Зарплата:\\t\", tmp_value, flush=True)\n",
    "        \n",
    "    tmp_obyazan = vacancy_item.find(\"div\", {\"data-qa\": \"vacancy-serp__vacancy_snippet_responsibility\"}).getText()\n",
    "    if debug:\n",
    "        print(\"Обязанности:\\t\", tmp_obyazan, flush=True)\n",
    "        \n",
    "    tmp_requir = vacancy_item.find(\"div\", {\"data-qa\": \"vacancy-serp__vacancy_snippet_requirement\"}).getText()\n",
    "    if debug:\n",
    "        print(\"Требования:\\t\", tmp_requir, flush=True)\n",
    "        print(\"=============================================================================\")\n",
    "\n",
    "    return {\"job\": tmp_jobname, \"link\": tmp_vacancy_href, \"value\": tmp_value2, \"response\": tmp_obyazan, \"req\": tmp_requir}"
   ]
  },
  {
   "cell_type": "code",
   "execution_count": 8,
   "metadata": {},
   "outputs": [
    {
     "name": "stdout",
     "output_type": "stream",
     "text": [
      "#35/35 страниц пропарсено\n"
     ]
    }
   ],
   "source": [
    "link = make_link_for_jobname(JOB_NAME, only_with_salary=only_with_salary)\n",
    "all_job_offers = []\n",
    "pages_counter = 0\n",
    "\n",
    "while link:\n",
    "#     print(link)\n",
    "    get_ = requests.get(link, headers=headers)\n",
    "    get_.encoding = 'utf-8'\n",
    "    html = get_.text\n",
    "    parsed_html = bs(html,'lxml')\n",
    "    link = find_next_page_link(parsed_html)\n",
    "    all_vacancies = find_all_vacancies_items(parsed_html)\n",
    "    for vacancy_item in all_vacancies:\n",
    "        all_job_offers.append(parse_vacancy_item(vacancy_item))\n",
    "    pages_counter += 1\n",
    "    print(\"\\r#%d/%d страниц пропарсено\" % (pages_counter, pages_enough), end = \"\", flush=True)\n",
    "    if pages_counter == pages_enough:\n",
    "        link = False\n",
    "print()"
   ]
  },
  {
   "cell_type": "code",
   "execution_count": 9,
   "metadata": {},
   "outputs": [],
   "source": [
    "with open(\"vacancies.txt\", \"wt\", encoding=\"utf-8\") as output_file:\n",
    "    if len(all_job_offers) > 0:\n",
    "        for rec in all_job_offers:\n",
    "            #{\"job\": tmp_jobname, \"link\": tmp_vacancy_href, \"value\": tmp_value, \"response\": tmp_obyazan, \"req\": tmp_requir}\n",
    "            output_file.write(\"Вакансия:\\n\\t\" + rec[\"job\"] + \"\\n\")\n",
    "            output_file.write(\"Зарплата:\\n\\tВалюта: \" + rec[\"value\"][\"currency\"] + \"\\n\\t\" + \"Мин.: \" + str(rec[\"value\"][\"min\"]) + \"\\n\\tМакс.: \" + str(rec[\"value\"][\"max\"]) + \"\\n\")\n",
    "            output_file.write(\"Ссылка:\\n\\t\" + rec[\"link\"] + \"\\n\")\n",
    "            output_file.write(\"Обязанности:\\n\\t\" + rec[\"response\"] + \"\\n\")\n",
    "            output_file.write(\"Требования:\\n\\t\" + rec[\"req\"] + \"\\n\")\n",
    "            output_file.write(\"=====================================================================================\\n\\n\")\n",
    "    else:\n",
    "        output_file.write(\"Вакансий по запросу \\\"%s\\\" не найдено.\\n\" % JOB_NAME)\n",
    "            "
   ]
  },
  {
   "cell_type": "code",
   "execution_count": 10,
   "metadata": {},
   "outputs": [],
   "source": [
    "# with open(\"vacancies.txt\", \"rt\", encoding=\"utf-8\") as file:\n",
    "#     print(file.read())"
   ]
  },
  {
   "cell_type": "code",
   "execution_count": null,
   "metadata": {},
   "outputs": [],
   "source": []
  },
  {
   "cell_type": "code",
   "execution_count": 11,
   "metadata": {},
   "outputs": [],
   "source": [
    "client = MongoClient('mongodb://127.0.0.1:27017')\n",
    "db = client['headhunter']\n",
    "hhdb = db.headhunter"
   ]
  },
  {
   "cell_type": "code",
   "execution_count": 12,
   "metadata": {},
   "outputs": [],
   "source": [
    "# Drop database:\n",
    "# client.drop_database(\"headhunter\")"
   ]
  },
  {
   "cell_type": "markdown",
   "metadata": {},
   "source": [
    "### Я подумал, что сама база MongoDB лучше и быстрее у себя внутри определит, что я пытаюсь ей подсунуть дубликат, поэтому мне показалось, что быстрее обработать возвращаемые исключения, и пропускать их если это \"DuplicateKeyError\", так что добавляются в итоге только новые вакансии."
   ]
  },
  {
   "cell_type": "code",
   "execution_count": 13,
   "metadata": {},
   "outputs": [],
   "source": [
    "for item in all_job_offers:\n",
    "#     print(item[\"value\"])\n",
    "    try:\n",
    "        hhdb.insert(item)\n",
    "    except Exception as e:\n",
    "        e_class_name = e.__class__.__name__\n",
    "        if e_class_name != \"DuplicateKeyError\":\n",
    "            print(\"WARNING: ERROR!\\n\\t\", e, \"\\n\\tFor item:\\n\\t\", item)"
   ]
  },
  {
   "cell_type": "code",
   "execution_count": 14,
   "metadata": {},
   "outputs": [],
   "source": [
    "def show_what_in_database(print_limit=0):\n",
    "    cursor = hhdb.find()\n",
    "    i = 0\n",
    "    for document in cursor:\n",
    "        pprint.pprint(document)\n",
    "        print()\n",
    "        i += 1\n",
    "        if print_limit != 0:\n",
    "            if i == print_limit:\n",
    "                return"
   ]
  },
  {
   "cell_type": "code",
   "execution_count": 15,
   "metadata": {},
   "outputs": [
    {
     "name": "stdout",
     "output_type": "stream",
     "text": [
      "{'_id': ObjectId('5d25c5b0dbf510c2be3bd3cf'),\n",
      " 'job': 'Старший разработчик С++/Qt',\n",
      " 'link': 'https://tomsk.hh.ru/vacancy/32375667?query=%D0%BF%D1%80%D0%BE%D0%B3%D1%80%D0%B0%D0%BC%D0%BC%D0%B8%D1%81%D1%82',\n",
      " 'req': 'Понимание принципов ООП. Знание структур и алгоритмов обработки '\n",
      "        'данных. Знание С++. Знание паттернов проектирования. Хорошее знание '\n",
      "        'библиотеки Qt5 (!). ',\n",
      " 'response': 'Участие в разработке и испытаниях ПО. Проект по разработке '\n",
      "             'кросс-платформенного коммуникационного клиента, включающего в '\n",
      "             'себя функционал почтового клиента, работы...',\n",
      " 'value': {'currency': 'руб.', 'max': 180000, 'min': 140000}}\n",
      "\n",
      "{'_id': ObjectId('5d25c5b0dbf510c2be3bd3d0'),\n",
      " 'job': 'Программист 1C',\n",
      " 'link': 'https://tomsk.hh.ru/vacancy/27844837?query=%D0%BF%D1%80%D0%BE%D0%B3%D1%80%D0%B0%D0%BC%D0%BC%D0%B8%D1%81%D1%82',\n",
      " 'req': 'Опыт профессиональной разработки на платформе 1С:Предприятие 8. Опыт '\n",
      "        'разработки в клиент-серверном режиме, умение работать с обычными и...',\n",
      " 'response': 'Проектирование ERP-решений: Анализ потребностей пользователей. '\n",
      "             'Разработка и развитие методологии учета и управления. Выработка '\n",
      "             'детальных требований к функционалу. Разработка. ',\n",
      " 'value': {'currency': 'руб.', 'max': 200000, 'min': 100000}}\n",
      "\n",
      "{'_id': ObjectId('5d25c5b0dbf510c2be3bd3d1'),\n",
      " 'job': 'Программист 1C',\n",
      " 'link': 'https://tomsk.hh.ru/vacancy/32391277?query=%D0%BF%D1%80%D0%BE%D0%B3%D1%80%D0%B0%D0%BC%D0%BC%D0%B8%D1%81%D1%82',\n",
      " 'req': 'Опыт работы программистом 1С 8.2 (8.3) в компании с количеством '\n",
      "        'пользователей 1С более 10 – от 3...',\n",
      " 'response': 'Конфигурирование и поддержка программ на базе УТ 11 (Платформа '\n",
      "             '1С:Предприятие 8.3). Доработка функционала типовых конфигураций '\n",
      "             '1С...',\n",
      " 'value': {'currency': 'руб.', 'max': 9999999999, 'min': 120000}}\n",
      "\n",
      "{'_id': ObjectId('5d25c5b0dbf510c2be3bd3d2'),\n",
      " 'job': 'Программист Android',\n",
      " 'link': 'https://tomsk.hh.ru/vacancy/32379471?query=%D0%BF%D1%80%D0%BE%D0%B3%D1%80%D0%B0%D0%BC%D0%BC%D0%B8%D1%81%D1%82',\n",
      " 'req': 'Отличное знание Java. Желательно знание С++. Опыт работы с Android '\n",
      "        'платформой. Знание паттернов, разработка многопоточных программ. '\n",
      "        'Умение разбираться в чужом...',\n",
      " 'response': '',\n",
      " 'value': {'currency': 'руб.', 'max': 100000, 'min': 70000}}\n",
      "\n",
      "{'_id': ObjectId('5d25c5b0dbf510c2be3bd3d3'),\n",
      " 'job': 'Программист 1С',\n",
      " 'link': 'https://tomsk.hh.ru/vacancy/32161032?query=%D0%BF%D1%80%D0%BE%D0%B3%D1%80%D0%B0%D0%BC%D0%BC%D0%B8%D1%81%D1%82',\n",
      " 'req': 'Опыт работы программистом на проектах внедрения на платформе 1С либо '\n",
      "        'специалистом поддержки в крупной компании от 3-х лет. ',\n",
      " 'response': 'Платформу 1С 8.3, в т.ч. технологии работы с управляемыми '\n",
      "             'формами и разработки под «тонкий клиент». ',\n",
      " 'value': {'currency': 'руб.', 'max': 9999999999, 'min': 150000}}\n",
      "\n"
     ]
    }
   ],
   "source": [
    "show_what_in_database(print_limit=5)"
   ]
  },
  {
   "cell_type": "markdown",
   "metadata": {},
   "source": [
    "### В вакансиях встречаются разные валюты:"
   ]
  },
  {
   "cell_type": "code",
   "execution_count": 16,
   "metadata": {},
   "outputs": [
    {
     "name": "stdout",
     "output_type": "stream",
     "text": [
      "руб.\n",
      "EUR\n",
      "USD\n"
     ]
    }
   ],
   "source": [
    "print(*hhdb.distinct(\"value.currency\"), sep=\"\\n\")"
   ]
  },
  {
   "cell_type": "code",
   "execution_count": 17,
   "metadata": {},
   "outputs": [],
   "source": [
    "def nice_print_vacancy(rec):\n",
    "    print(\"Вакансия:\\n\\t\" + rec[\"job\"])\n",
    "    print(\"Зарплата:\\n\\tВалюта: \" + rec[\"value\"][\"currency\"] + \"\\n\\t\" + \"Мин.: \" + str(rec[\"value\"][\"min\"]) + \"\\n\\tМакс.: \" + str(rec[\"value\"][\"max\"]))\n",
    "    print(\"Ссылка:\\n\\t\" + rec[\"link\"])\n",
    "    print(\"Обязанности:\\n\\t\" + rec[\"response\"])\n",
    "    print(\"Требования:\\n\\t\" + rec[\"req\"])\n",
    "    print(\"=============================================================================================================\\n\")"
   ]
  },
  {
   "cell_type": "code",
   "execution_count": 18,
   "metadata": {},
   "outputs": [],
   "source": [
    "def find_vacancies_with_big_zp(zp_value=0, currency=\"руб.\"):\n",
    "    for res in hhdb.find({\"value.min\": {\"$gt\": zp_value}, \"value.currency\": {\"$eq\": currency}}):\n",
    "        nice_print_vacancy(res)\n"
   ]
  },
  {
   "cell_type": "code",
   "execution_count": 21,
   "metadata": {},
   "outputs": [],
   "source": [
    "# Найти зарплату больше чем \"ZP_VALUE\" в валюте \"CURRENCY\":\n",
    "ZP_VALUE = 500\n",
    "\n",
    "# CURRENCY = \"EUR\"\n",
    "# CURRENCY = \"руб.\"\n",
    "CURRENCY = \"USD\""
   ]
  },
  {
   "cell_type": "code",
   "execution_count": 22,
   "metadata": {},
   "outputs": [
    {
     "name": "stdout",
     "output_type": "stream",
     "text": [
      "Вакансия:\n",
      "\tВедущий разработчик/разработчик C++/Qt (GUI Team, VMS)\n",
      "Зарплата:\n",
      "\tВалюта: USD\n",
      "\tМин.: 4000\n",
      "\tМакс.: 9999999999\n",
      "Ссылка:\n",
      "\thttps://tomsk.hh.ru/vacancy/28163901?query=%D0%BF%D1%80%D0%BE%D0%B3%D1%80%D0%B0%D0%BC%D0%BC%D0%B8%D1%81%D1%82\n",
      "Обязанности:\n",
      "\tПрограммировать GUI на Qt Widgets, QML, а иногда и на OpenGL. Постоянно улучшать существующий код. Нет предела совершенству. \n",
      "Требования:\n",
      "\tЗнание сетевых протоколов и основ работы с базами данных. Иногда GUI-разработчикам приходится писать и серверный код. Опыт разработки мобильных...\n",
      "=============================================================================================================\n",
      "\n",
      "Вакансия:\n",
      "\tSenior Scala/Akka Developer\n",
      "Зарплата:\n",
      "\tВалюта: USD\n",
      "\tМин.: 3000\n",
      "\tМакс.: 4500\n",
      "Ссылка:\n",
      "\thttps://tomsk.hh.ru/vacancy/32229113?query=%D0%BF%D1%80%D0%BE%D0%B3%D1%80%D0%B0%D0%BC%D0%BC%D0%B8%D1%81%D1%82\n",
      "Обязанности:\n",
      "\t\n",
      "Требования:\n",
      "\tОтличное знание Java, Scala, понимание архитектуры и особенностей JVM. - Опыт разработки распределенных систем с использованием Akka. - Глубокие знания архитектуры компьютерных...\n",
      "=============================================================================================================\n",
      "\n",
      "Вакансия:\n",
      "\tSenior Full-Stack Developer / Java\n",
      "Зарплата:\n",
      "\tВалюта: USD\n",
      "\tМин.: 2500\n",
      "\tМакс.: 3000\n",
      "Ссылка:\n",
      "\thttps://tomsk.hh.ru/vacancy/32381581?query=%D0%BF%D1%80%D0%BE%D0%B3%D1%80%D0%B0%D0%BC%D0%BC%D0%B8%D1%81%D1%82\n",
      "Обязанности:\n",
      "\t1. Бэкенд написан на Java 8 и состоит из нескольких сервисов с REST интерфейсом; сервисы представляют собой spring boot модули...\n",
      "Требования:\n",
      "\tНавыки, необходимые для успешного старта на проекте: 1. Опыт разработки на JS от 4 лет. 2. Опыт разработки на Java...\n",
      "=============================================================================================================\n",
      "\n",
      "Вакансия:\n",
      "\tSenior C++ Developer\n",
      "Зарплата:\n",
      "\tВалюта: USD\n",
      "\tМин.: 4000\n",
      "\tМакс.: 9999999999\n",
      "Ссылка:\n",
      "\thttps://tomsk.hh.ru/vacancy/27979214?query=%D0%BF%D1%80%D0%BE%D0%B3%D1%80%D0%B0%D0%BC%D0%BC%D0%B8%D1%81%D1%82\n",
      "Обязанности:\n",
      "\tExtending VMS API to make our system open for third-party developers. Work with audio/video codecs and containers using...\n",
      "Требования:\n",
      "\tGood knowledge of Networking programming. Excellent skills in multi-threaded development. Deep understanding of OOP and software design patterns. \n",
      "=============================================================================================================\n",
      "\n"
     ]
    }
   ],
   "source": [
    "find_vacancies_with_big_zp(zp_value=ZP_VALUE, currency=CURRENCY)"
   ]
  },
  {
   "cell_type": "code",
   "execution_count": null,
   "metadata": {},
   "outputs": [],
   "source": []
  },
  {
   "cell_type": "code",
   "execution_count": null,
   "metadata": {},
   "outputs": [],
   "source": []
  }
 ],
 "metadata": {
  "kernelspec": {
   "display_name": "Python 3",
   "language": "python",
   "name": "python3"
  },
  "language_info": {
   "codemirror_mode": {
    "name": "ipython",
    "version": 3
   },
   "file_extension": ".py",
   "mimetype": "text/x-python",
   "name": "python",
   "nbconvert_exporter": "python",
   "pygments_lexer": "ipython3",
   "version": "3.7.1"
  }
 },
 "nbformat": 4,
 "nbformat_minor": 2
}
