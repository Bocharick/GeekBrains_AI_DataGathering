{
 "cells": [
  {
   "cell_type": "markdown",
   "metadata": {},
   "source": [
    "#### 1) Запросить курсы любой валюты за последний год. Сохранить полученные данные в базу данных Mongo.  \n",
    "#### 2) Написать функцию, которая принимает в качестве параметров две даты, ищет самую большую разницу между курсами валюты за указанный период и возвращает эти дни.  \n",
    "#### 3) Сделать вывод информативным: Валюту <Валюта> выгодно было купить <Дата>, а продать <Дата>. Прибыль: <Разница в цене валюты>"
   ]
  },
  {
   "cell_type": "code",
   "execution_count": 1,
   "metadata": {},
   "outputs": [],
   "source": [
    "import zeep\n",
    "import pprint\n",
    "import json\n",
    "import datetime\n",
    "from pymongo import MongoClient\n",
    "import time"
   ]
  },
  {
   "cell_type": "code",
   "execution_count": 2,
   "metadata": {},
   "outputs": [
    {
     "name": "stderr",
     "output_type": "stream",
     "text": [
      "Forcing soap:address location to HTTPS\n",
      "Forcing soap:address location to HTTPS\n"
     ]
    }
   ],
   "source": [
    "url = \"https://www.cbr.ru/DailyInfoWebServ/DailyInfo.asmx?WSDL\"\n",
    "zeepclient = zeep.Client(url)"
   ]
  },
  {
   "cell_type": "code",
   "execution_count": 3,
   "metadata": {},
   "outputs": [],
   "source": [
    "mongoclient = MongoClient('mongodb://127.0.0.1:27017')\n",
    "db = mongoclient['currencies']\n",
    "currdb = db.currencies"
   ]
  },
  {
   "cell_type": "code",
   "execution_count": 4,
   "metadata": {},
   "outputs": [],
   "source": [
    "def date_to_seconds(date):\n",
    "    \"\"\"\n",
    "    Date example:\n",
    "        date = '2018-12-30'\n",
    "    \"\"\"\n",
    "    return int(datetime.datetime.timestamp(datetime.datetime.fromisoformat(date)))\n",
    "\n",
    "def seconds_to_date(seconds):\n",
    "    \"\"\"\n",
    "    Seconds example:\n",
    "        seconds = 1576083600.0\n",
    "    \"\"\"\n",
    "    return datetime.datetime.fromtimestamp(seconds).strftime('%Y-%m-%d')\n",
    "\n",
    "def date_to_datetime(date):\n",
    "    return datetime.datetime.fromisoformat(date)\n",
    "\n",
    "def datetime_to_date(datetime_val):\n",
    "    return datetime_val.strftime('%Y-%m-%d')\n",
    "\n",
    "def datetime_to_seconds(datetime_val):\n",
    "    return int(datetime.datetime.timestamp(datetime_val))\n",
    "\n",
    "def seconds_to_datetime(seconds):\n",
    "    return date_to_datetime(seconds_to_date(seconds))"
   ]
  },
  {
   "cell_type": "code",
   "execution_count": 5,
   "metadata": {},
   "outputs": [],
   "source": [
    "def date_curs(datetime_val):\n",
    "    date = datetime_to_date(datetime_val)\n",
    "    money = zeepclient.service.GetCursOnDate(date)\n",
    "    new_valute_dict = {}\n",
    "    for rec in money._value_1._value_1:\n",
    "        key = rec[\"ValuteCursOnDate\"][\"VchCode\"]\n",
    "        value = {\n",
    "            \"Vnom\": float(rec[\"ValuteCursOnDate\"][\"Vnom\"]),\n",
    "            \"Vcurs\": {str(datetime_to_seconds(datetime_val)): round(float(rec[\"ValuteCursOnDate\"][\"Vcurs\"]), 4)},\n",
    "            \"Vname\": rec[\"ValuteCursOnDate\"][\"Vname\"].rstrip()\n",
    "        }\n",
    "        new_valute_dict.update({key: value})\n",
    "    return new_valute_dict"
   ]
  },
  {
   "cell_type": "code",
   "execution_count": 6,
   "metadata": {},
   "outputs": [],
   "source": [
    "def show_what_in_database(print_limit=0):\n",
    "    cursor = currdb.find()\n",
    "    i = 0\n",
    "    for document in cursor:\n",
    "        pprint.pprint(document)\n",
    "        print()\n",
    "        i += 1\n",
    "        if print_limit != 0:\n",
    "            if i == print_limit:\n",
    "                return"
   ]
  },
  {
   "cell_type": "code",
   "execution_count": 7,
   "metadata": {},
   "outputs": [],
   "source": [
    "# Начальная дата, с которой будут добавлены все курсы валют (Формат: '2016-12-31')\n",
    "START_DATE = \"2009-12-31\""
   ]
  },
  {
   "cell_type": "code",
   "execution_count": 8,
   "metadata": {},
   "outputs": [
    {
     "name": "stdout",
     "output_type": "stream",
     "text": [
      "Сегодня: 2019-07-11\n"
     ]
    }
   ],
   "source": [
    "start_datetime = date_to_datetime(START_DATE)\n",
    "today_datetime = datetime.datetime.now()\n",
    "print(\"Сегодня:\", datetime_to_date(today_datetime))"
   ]
  },
  {
   "cell_type": "code",
   "execution_count": 9,
   "metadata": {},
   "outputs": [],
   "source": [
    "# Drop database:\n",
    "# mongoclient.drop_database(\"currencies\")"
   ]
  },
  {
   "cell_type": "code",
   "execution_count": 10,
   "metadata": {},
   "outputs": [
    {
     "name": "stdout",
     "output_type": "stream",
     "text": [
      "365 дней до 2010-12-31 обработано за 81.0376 секунд\n",
      "365 дней до 2011-12-31 обработано за 83.7347 секунд\n",
      "365 дней до 2012-12-30 обработано за 79.9743 секунд\n",
      "365 дней до 2013-12-30 обработано за 93.7467 секунд\n",
      "365 дней до 2014-12-30 обработано за 109.7251 секунд\n",
      "365 дней до 2015-12-30 обработано за 98.5174 секунд\n",
      "365 дней до 2016-12-29 обработано за 107.7295 секунд\n",
      "365 дней до 2017-12-29 обработано за 110.7166 секунд\n",
      "365 дней до 2018-12-29 обработано за 109.0210 секунд\n"
     ]
    }
   ],
   "source": [
    "start_time = time.time()\n",
    "tmp_datetime = start_datetime\n",
    "print_step = 365\n",
    "while (today_datetime - tmp_datetime).days >= 0:\n",
    "    tmp_date = datetime_to_date(tmp_datetime)\n",
    "    tmp_curs = date_curs(tmp_datetime)\n",
    "    if (tmp_datetime - start_datetime).days % print_step == 0 and tmp_datetime != start_datetime:\n",
    "        print(\"%d дней до\" % print_step, tmp_date, \"обработано за %.4f секунд\" % (time.time() - start_time))\n",
    "        start_time = time.time()\n",
    "    for valute in tmp_curs:\n",
    "        if currdb.count_documents({valute: { \"$exists\": True}}) == 0:\n",
    "            currdb.insert_one({valute: tmp_curs[valute]})\n",
    "        else:\n",
    "            vcurs_dict = currdb.find_one({valute: { \"$exists\": True}})[valute]['Vcurs']\n",
    "            vnom = currdb.find_one({valute: { \"$exists\": True}})[valute]['Vnom']\n",
    "#             Номинал иногда меняется, поэтому надо его выравнивать\n",
    "            if vnom != tmp_curs[valute]['Vnom']:\n",
    "                tmp_multiplier = tmp_curs[valute]['Vnom'] / vnom\n",
    "                tmp_curs[valute]['Vcurs'][str(datetime_to_seconds(tmp_datetime))] = round(tmp_curs[valute]['Vcurs'][str(datetime_to_seconds(tmp_datetime))] / tmp_multiplier, 4)\n",
    "            vcurs_dict.update({str(datetime_to_seconds(tmp_datetime)): tmp_curs[valute]['Vcurs'][str(datetime_to_seconds(tmp_datetime))]})\n",
    "            \n",
    "            currdb.update_one({valute: { \"$exists\": True}}, \n",
    "                              {'$set': {'%s.Vcurs' % valute: vcurs_dict}}, upsert=True)\n",
    "    tmp_datetime += datetime.timedelta(days=1)"
   ]
  },
  {
   "cell_type": "markdown",
   "metadata": {},
   "source": [
    "### Доступные валюты в базе:"
   ]
  },
  {
   "cell_type": "code",
   "execution_count": 11,
   "metadata": {},
   "outputs": [
    {
     "name": "stdout",
     "output_type": "stream",
     "text": [
      "Доступные валюты:\n",
      "AUD - Австралийский доллар\n",
      "GBP - Фунт стерлингов Соединенного королевства\n",
      "BYR - Белорусский рубль\n",
      "DKK - Датская крона\n",
      "USD - Доллар США\n",
      "EUR - Евро\n",
      "ISK - Исландская крона\n",
      "KZT - Казахстанский тенге\n",
      "CAD - Канадский доллар\n",
      "CNY - Китайский юань\n",
      "NOK - Норвежская крона\n",
      "XDR - СДР (специальные права заимствования)\n",
      "SGD - Сингапурский доллар\n",
      "TRY - Турецкая лира\n",
      "UAH - Украинская гривна\n",
      "SEK - Шведская крона\n",
      "CHF - Швейцарский франк\n",
      "JPY - Японская иена\n",
      "AZN - Азербайджанский манат\n",
      "AMD - Армянский драм\n",
      "BGN - Болгарский лев\n",
      "BRL - Бразильский реал\n",
      "HUF - Венгерский форинт\n",
      "INR - Индийская рупия\n",
      "KGS - Киргизский сом\n",
      "LVL - Латвийский лат\n",
      "LTL - Литовский лит\n",
      "MDL - Молдавский лей\n",
      "PLN - Польский злотый\n",
      "RON - Румынский лей\n",
      "TJS - Таджикский сомони\n",
      "TMT - Новый туркменский манат\n",
      "UZS - Узбекский сум\n",
      "CZK - Чешская крона\n",
      "EEK - Эстонская крона\n",
      "ZAR - Южноафриканский рэнд\n",
      "KRW - Вон Республики Корея\n",
      "BYN - Белорусский рубль\n",
      "HKD - Гонконгский доллар\n"
     ]
    }
   ],
   "source": [
    "print(\"Доступные валюты:\")\n",
    "for doc in currdb.find():\n",
    "    for key in doc:\n",
    "        if key != \"_id\":\n",
    "            print(key, \"-\", doc[key][\"Vname\"])"
   ]
  },
  {
   "cell_type": "code",
   "execution_count": 12,
   "metadata": {},
   "outputs": [],
   "source": [
    "def find_good_purchase(from_date=\"1990-12-31\", to_date=\"2020-12-31\", currency=\"USD\"):\n",
    "    currency_data = currdb.find_one({currency: { \"$exists\": True}})\n",
    "    from_seconds = date_to_seconds(from_date)\n",
    "    to_seconds = date_to_seconds(to_date)\n",
    "    vcurs_keys = [int(key) for key in currency_data[currency][\"Vcurs\"]]\n",
    "    \n",
    "    from_index = -1\n",
    "    to_index = len(vcurs_keys) - 1\n",
    "    \n",
    "    if from_seconds < vcurs_keys[0]:\n",
    "        print(\"Вы хотели данные начиная с %s,\" % from_date, \"но для %s данные доступны начиная с %s.\" % (currency, seconds_to_date(vcurs_keys[0])))\n",
    "        return\n",
    "    \n",
    "    if to_seconds > vcurs_keys[-1]:\n",
    "        print(\"Вы хотели данные заканчивая %s,\" % to_date, \"но для %s данные доступны только до %s\" % (currency, seconds_to_date(vcurs_keys[-1])))\n",
    "        return\n",
    "    \n",
    "    for i in range(len(vcurs_keys)):\n",
    "        if from_index == -1 and vcurs_keys[i] >= from_seconds:\n",
    "            from_index = i\n",
    "        if vcurs_keys[i] <= to_seconds:\n",
    "            to_index = i\n",
    "    \n",
    "    max_diff_start_idx = from_index\n",
    "    max_diff_end_idx = from_index\n",
    "    max_diff = -9999999.99\n",
    "    for left_idx in range(from_index, to_index):\n",
    "        for righ_idx in range(left_idx, to_index+1):\n",
    "            tmp_diff = currency_data[currency]['Vcurs'][str(vcurs_keys[righ_idx])] - currency_data[currency]['Vcurs'][str(vcurs_keys[left_idx])]\n",
    "            if tmp_diff > max_diff:\n",
    "                max_diff_start_idx = left_idx\n",
    "                max_diff_end_idx = righ_idx\n",
    "                max_diff = tmp_diff\n",
    "    \n",
    "    print(\"Валюту\", currency, \"выгодно было купить %s,\" % seconds_to_date(vcurs_keys[max_diff_start_idx]), \"а продать %s.\" % seconds_to_date(vcurs_keys[max_diff_end_idx]), \"Прибыль: %.4f руб. с каждых %d проданных %s\" % (max_diff, currency_data[currency]['Vnom'], currency)) "
   ]
  },
  {
   "cell_type": "code",
   "execution_count": 13,
   "metadata": {},
   "outputs": [
    {
     "name": "stdout",
     "output_type": "stream",
     "text": [
      "Вы хотели данные начиная с 1990-12-31, но для USD данные доступны начиная с 2009-12-31.\n"
     ]
    }
   ],
   "source": [
    "find_good_purchase()"
   ]
  },
  {
   "cell_type": "code",
   "execution_count": 14,
   "metadata": {},
   "outputs": [
    {
     "name": "stdout",
     "output_type": "stream",
     "text": [
      "Вы хотели данные заканчивая 2020-12-31, но для USD данные доступны только до 2019-07-11\n"
     ]
    }
   ],
   "source": [
    "find_good_purchase(from_date=\"2012-01-01\")"
   ]
  },
  {
   "cell_type": "code",
   "execution_count": 15,
   "metadata": {},
   "outputs": [
    {
     "name": "stdout",
     "output_type": "stream",
     "text": [
      "Вы хотели данные заканчивая 2020-12-31, но для USD данные доступны только до 2019-07-11\n"
     ]
    }
   ],
   "source": [
    "find_good_purchase(from_date=\"2015-12-31\")"
   ]
  },
  {
   "cell_type": "code",
   "execution_count": 16,
   "metadata": {},
   "outputs": [
    {
     "name": "stdout",
     "output_type": "stream",
     "text": [
      "Валюту USD выгодно было купить 2018-02-28, а продать 2018-09-12. Прибыль: 14.3027 руб. с каждых 1 проданных USD\n"
     ]
    }
   ],
   "source": [
    "find_good_purchase(from_date=\"2016-01-03\", to_date=\"2019-01-26\")"
   ]
  },
  {
   "cell_type": "code",
   "execution_count": 20,
   "metadata": {},
   "outputs": [
    {
     "name": "stdout",
     "output_type": "stream",
     "text": [
      "Валюту USD выгодно было купить 2011-05-06, а продать 2016-01-22. Прибыль: 56.3288 руб. с каждых 1 проданных USD\n"
     ]
    }
   ],
   "source": [
    "find_good_purchase(from_date=\"2010-01-01\", to_date=\"2019-01-26\")"
   ]
  },
  {
   "cell_type": "code",
   "execution_count": 17,
   "metadata": {},
   "outputs": [
    {
     "name": "stdout",
     "output_type": "stream",
     "text": [
      "Вы хотели данные начиная с 2016-06-03, но для HKD данные доступны начиная с 2017-04-01.\n"
     ]
    }
   ],
   "source": [
    "find_good_purchase(from_date=\"2016-06-03\", to_date=\"2019-01-26\", currency=\"HKD\")"
   ]
  },
  {
   "cell_type": "code",
   "execution_count": 18,
   "metadata": {},
   "outputs": [
    {
     "name": "stdout",
     "output_type": "stream",
     "text": [
      "Валюту HKD выгодно было купить 2018-02-28, а продать 2018-09-12. Прибыль: 18.0073 руб. с каждых 10 проданных HKD\n"
     ]
    }
   ],
   "source": [
    "find_good_purchase(from_date=\"2017-06-03\", to_date=\"2019-01-26\", currency=\"HKD\")"
   ]
  },
  {
   "cell_type": "code",
   "execution_count": 19,
   "metadata": {},
   "outputs": [
    {
     "name": "stdout",
     "output_type": "stream",
     "text": [
      "Валюту HKD выгодно было купить 2019-06-05, а продать 2019-06-05. Прибыль: -9999999.9900 руб. с каждых 10 проданных HKD\n"
     ]
    }
   ],
   "source": [
    "find_good_purchase(from_date=\"2019-06-05\", to_date=\"2019-01-26\", currency=\"HKD\")"
   ]
  },
  {
   "cell_type": "code",
   "execution_count": 28,
   "metadata": {},
   "outputs": [
    {
     "name": "stdout",
     "output_type": "stream",
     "text": [
      "Валюту INR выгодно было купить 2013-08-29, а продать 2016-01-22. Прибыль: 74.2486 руб. с каждых 100 проданных INR\n"
     ]
    }
   ],
   "source": [
    "find_good_purchase(from_date=\"2010-01-12\", to_date=\"2019-01-26\", currency=\"INR\")"
   ]
  },
  {
   "cell_type": "code",
   "execution_count": 29,
   "metadata": {},
   "outputs": [
    {
     "name": "stdout",
     "output_type": "stream",
     "text": [
      "Валюту HUF выгодно было купить 2012-01-18, а продать 2016-01-22. Прибыль: 16.0019 руб. с каждых 100 проданных HUF\n"
     ]
    }
   ],
   "source": [
    "find_good_purchase(from_date=\"2010-01-12\", to_date=\"2019-01-26\", currency=\"HUF\")"
   ]
  },
  {
   "cell_type": "code",
   "execution_count": null,
   "metadata": {},
   "outputs": [],
   "source": []
  },
  {
   "cell_type": "markdown",
   "metadata": {},
   "source": [
    "### Уже после того как закончил (и озадачился долгим выполнением запросов к ЦБРФ при заполнении базы данными) нашел, что можно было через другой запрос получать для валюты курс в заданном периоде. Переделывать уже не стал. С другой стороны та реализация которая есть на текущий момент имеет право на жизнь, так как добавление архивной информации в базу происходит единожды, а дальнейшие дополнения в базу уже будут для более свежих дат небольшими интервалами, и, как следствие, быстро."
   ]
  },
  {
   "cell_type": "code",
   "execution_count": 26,
   "metadata": {},
   "outputs": [
    {
     "data": {
      "text/plain": [
       "{\n",
       "    'schema': <Schema(location=None, tns=None)>,\n",
       "    '_value_1': {\n",
       "        '_value_1': [\n",
       "            {\n",
       "                'ValuteCursDynamic': {\n",
       "                    'CursDate': datetime.datetime(2019, 6, 25, 0, 0, tzinfo=<FixedOffset '+03:00'>),\n",
       "                    'Vcode': 'R01235',\n",
       "                    'Vnom': Decimal('1'),\n",
       "                    'Vcurs': Decimal('62.9095')\n",
       "                }\n",
       "            },\n",
       "            {\n",
       "                'ValuteCursDynamic': {\n",
       "                    'CursDate': datetime.datetime(2019, 6, 26, 0, 0, tzinfo=<FixedOffset '+03:00'>),\n",
       "                    'Vcode': 'R01235',\n",
       "                    'Vnom': Decimal('1'),\n",
       "                    'Vcurs': Decimal('62.5229')\n",
       "                }\n",
       "            },\n",
       "            {\n",
       "                'ValuteCursDynamic': {\n",
       "                    'CursDate': datetime.datetime(2019, 6, 27, 0, 0, tzinfo=<FixedOffset '+03:00'>),\n",
       "                    'Vcode': 'R01235',\n",
       "                    'Vnom': Decimal('1'),\n",
       "                    'Vcurs': Decimal('62.8083')\n",
       "                }\n",
       "            },\n",
       "            {\n",
       "                'ValuteCursDynamic': {\n",
       "                    'CursDate': datetime.datetime(2019, 6, 28, 0, 0, tzinfo=<FixedOffset '+03:00'>),\n",
       "                    'Vcode': 'R01235',\n",
       "                    'Vnom': Decimal('1'),\n",
       "                    'Vcurs': Decimal('63.0452')\n",
       "                }\n",
       "            },\n",
       "            {\n",
       "                'ValuteCursDynamic': {\n",
       "                    'CursDate': datetime.datetime(2019, 6, 29, 0, 0, tzinfo=<FixedOffset '+03:00'>),\n",
       "                    'Vcode': 'R01235',\n",
       "                    'Vnom': Decimal('1'),\n",
       "                    'Vcurs': Decimal('63.0756')\n",
       "                }\n",
       "            },\n",
       "            {\n",
       "                'ValuteCursDynamic': {\n",
       "                    'CursDate': datetime.datetime(2019, 7, 2, 0, 0, tzinfo=<FixedOffset '+03:00'>),\n",
       "                    'Vcode': 'R01235',\n",
       "                    'Vnom': Decimal('1'),\n",
       "                    'Vcurs': Decimal('63.0541')\n",
       "                }\n",
       "            },\n",
       "            {\n",
       "                'ValuteCursDynamic': {\n",
       "                    'CursDate': datetime.datetime(2019, 7, 3, 0, 0, tzinfo=<FixedOffset '+03:00'>),\n",
       "                    'Vcode': 'R01235',\n",
       "                    'Vnom': Decimal('1'),\n",
       "                    'Vcurs': Decimal('63.2265')\n",
       "                }\n",
       "            },\n",
       "            {\n",
       "                'ValuteCursDynamic': {\n",
       "                    'CursDate': datetime.datetime(2019, 7, 4, 0, 0, tzinfo=<FixedOffset '+03:00'>),\n",
       "                    'Vcode': 'R01235',\n",
       "                    'Vnom': Decimal('1'),\n",
       "                    'Vcurs': Decimal('63.4951')\n",
       "                }\n",
       "            },\n",
       "            {\n",
       "                'ValuteCursDynamic': {\n",
       "                    'CursDate': datetime.datetime(2019, 7, 5, 0, 0, tzinfo=<FixedOffset '+03:00'>),\n",
       "                    'Vcode': 'R01235',\n",
       "                    'Vnom': Decimal('1'),\n",
       "                    'Vcurs': Decimal('63.4013')\n",
       "                }\n",
       "            },\n",
       "            {\n",
       "                'ValuteCursDynamic': {\n",
       "                    'CursDate': datetime.datetime(2019, 7, 6, 0, 0, tzinfo=<FixedOffset '+03:00'>),\n",
       "                    'Vcode': 'R01235',\n",
       "                    'Vnom': Decimal('1'),\n",
       "                    'Vcurs': Decimal('63.5841')\n",
       "                }\n",
       "            },\n",
       "            {\n",
       "                'ValuteCursDynamic': {\n",
       "                    'CursDate': datetime.datetime(2019, 7, 9, 0, 0, tzinfo=<FixedOffset '+03:00'>),\n",
       "                    'Vcode': 'R01235',\n",
       "                    'Vnom': Decimal('1'),\n",
       "                    'Vcurs': Decimal('63.8699')\n",
       "                }\n",
       "            },\n",
       "            {\n",
       "                'ValuteCursDynamic': {\n",
       "                    'CursDate': datetime.datetime(2019, 7, 10, 0, 0, tzinfo=<FixedOffset '+03:00'>),\n",
       "                    'Vcode': 'R01235',\n",
       "                    'Vnom': Decimal('1'),\n",
       "                    'Vcurs': Decimal('63.7660')\n",
       "                }\n",
       "            },\n",
       "            {\n",
       "                'ValuteCursDynamic': {\n",
       "                    'CursDate': datetime.datetime(2019, 7, 11, 0, 0, tzinfo=<FixedOffset '+03:00'>),\n",
       "                    'Vcode': 'R01235',\n",
       "                    'Vnom': Decimal('1'),\n",
       "                    'Vcurs': Decimal('63.7988')\n",
       "                }\n",
       "            }\n",
       "        ]\n",
       "    }\n",
       "}"
      ]
     },
     "execution_count": 26,
     "metadata": {},
     "output_type": "execute_result"
    }
   ],
   "source": [
    "# zeepclient.service.GetCursDynamic(FromDate, ToDate, ValutaCode)\n",
    "# ValutaCode смотреть здесь: http://www.cbr.ru/scripts/XML_valFull.asp\n",
    "USD_ValuteCode = \"R01235\"\n",
    "zeepclient.service.GetCursDynamic(\"2019-06-25\", \"2019-07-11\", USD_ValuteCode)"
   ]
  },
  {
   "cell_type": "code",
   "execution_count": null,
   "metadata": {},
   "outputs": [],
   "source": []
  }
 ],
 "metadata": {
  "kernelspec": {
   "display_name": "Python 3",
   "language": "python",
   "name": "python3"
  },
  "language_info": {
   "codemirror_mode": {
    "name": "ipython",
    "version": 3
   },
   "file_extension": ".py",
   "mimetype": "text/x-python",
   "name": "python",
   "nbconvert_exporter": "python",
   "pygments_lexer": "ipython3",
   "version": "3.7.1"
  }
 },
 "nbformat": 4,
 "nbformat_minor": 2
}
